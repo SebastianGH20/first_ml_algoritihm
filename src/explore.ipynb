{
    "cells": [
        {
            "cell_type": "markdown",
            "metadata": {},
            "source": [
                "# Explore here"
            ]
        },
        {
            "cell_type": "code",
            "execution_count": 18,
            "metadata": {},
            "outputs": [
                {
                    "name": "stdout",
                    "output_type": "stream",
                    "text": [
                        "Index(['age', 'job', 'marital', 'education', 'default', 'housing', 'loan',\n",
                        "       'contact', 'month', 'day_of_week', 'duration', 'campaign', 'pdays',\n",
                        "       'previous', 'poutcome', 'emp.var.rate', 'cons.price.idx',\n",
                        "       'cons.conf.idx', 'euribor3m', 'nr.employed', 'y'],\n",
                        "      dtype='object')\n"
                    ]
                }
            ],
            "source": [
                "import pandas as pd\n",
                "\n",
                "# Lectura del conjunto de datos especificando el delimitador correcto\n",
                "url = \"https://raw.githubusercontent.com/4GeeksAcademy/logistic-regression-project-tutorial/main/bank-marketing-campaign-data.csv\"\n",
                "data = pd.read_csv(url, delimiter=';')  # Usar ';' como delimitador para corregir el problema de las columnas\n",
                "\n",
                "# Imprimir los nombres de las columnas para verificar\n",
                "print(data.columns)"
            ]
        },
        {
            "cell_type": "code",
            "execution_count": 19,
            "metadata": {},
            "outputs": [],
            "source": [
                "from sklearn.model_selection import train_test_split\n",
                "from sklearn.preprocessing import LabelEncoder\n",
                "\n",
                "# Codificar la variable objetivo 'y'\n",
                "label_encoder = LabelEncoder()\n",
                "data['y'] = label_encoder.fit_transform(data['y'])  # Transforma 'yes' en 1 y 'no' en 0\n",
                "\n",
                "# Convertir variables categóricas en variables dummy\n",
                "data = pd.get_dummies(data, drop_first=True)\n",
                "\n",
                "# Dividir los datos en conjuntos de entrenamiento y prueba\n",
                "X = data.drop('y', axis=1)\n",
                "y = data['y']\n",
                "X_train, X_test, y_train, y_test = train_test_split(X, y, test_size=0.2, random_state=42)\n",
                "\n",
                "# Alinear X_train y X_test para que ambos tengan las mismas columnas\n",
                "X_train, X_test = X_train.align(X_test, join='outer', axis=1, fill_value=0)  # Rellenar con ceros donde falten valores"
            ]
        },
        {
            "cell_type": "code",
            "execution_count": 20,
            "metadata": {},
            "outputs": [],
            "source": [
                "from sklearn.preprocessing import StandardScaler\n",
                "scaler = StandardScaler()\n",
                "X_train_scaled = scaler.fit_transform(X_train)\n",
                "X_test_scaled = scaler.transform(X_test)\n"
            ]
        },
        {
            "cell_type": "code",
            "execution_count": 21,
            "metadata": {},
            "outputs": [],
            "source": [
                "from imblearn.over_sampling import SMOTE\n",
                "sm = SMOTE(random_state=42)\n",
                "X_train_res, y_train_res = sm.fit_resample(X_train_scaled, y_train)"
            ]
        },
        {
            "cell_type": "code",
            "execution_count": 22,
            "metadata": {},
            "outputs": [
                {
                    "name": "stdout",
                    "output_type": "stream",
                    "text": [
                        "Modelo entrenado con éxito.\n"
                    ]
                }
            ],
            "source": [
                "from sklearn.linear_model import LogisticRegression\n",
                "\n",
                "# Crear el modelo de regresión logistica\n",
                "model = LogisticRegression(max_iter=10000, random_state=42, class_weight='balanced')\n",
                "model.fit(X_train_res, y_train_res)\n",
                "\n",
                "print(\"Modelo entrenado con éxito.\")"
            ]
        },
        {
            "cell_type": "code",
            "execution_count": 23,
            "metadata": {},
            "outputs": [
                {
                    "name": "stdout",
                    "output_type": "stream",
                    "text": [
                        "Precisión del modelo: 0.86\n",
                        "Matriz de confusión:\n",
                        " [[6300 1003]\n",
                        " [ 110  825]]\n",
                        "Reporte de clasificación:\n",
                        "               precision    recall  f1-score   support\n",
                        "\n",
                        "           0       0.98      0.86      0.92      7303\n",
                        "           1       0.45      0.88      0.60       935\n",
                        "\n",
                        "    accuracy                           0.86      8238\n",
                        "   macro avg       0.72      0.87      0.76      8238\n",
                        "weighted avg       0.92      0.86      0.88      8238\n",
                        "\n"
                    ]
                }
            ],
            "source": [
                "from sklearn.metrics import accuracy_score, confusion_matrix, classification_report\n",
                "\n",
                "# Realizar predicciones\n",
                "y_pred = model.predict(X_test_scaled)\n",
                "\n",
                "# Evaluar el modelo\n",
                "accuracy = accuracy_score(y_test, y_pred)\n",
                "conf_matrix = confusion_matrix(y_test, y_pred)\n",
                "class_report = classification_report(y_test, y_pred)\n",
                "\n",
                "print(f\"Precisión del modelo: {accuracy:.2f}\")\n",
                "print(\"Matriz de confusión:\\n\", conf_matrix)\n",
                "print(\"Reporte de clasificación:\\n\", class_report)\n"
            ]
        },
        {
            "cell_type": "code",
            "execution_count": 24,
            "metadata": {},
            "outputs": [
                {
                    "name": "stdout",
                    "output_type": "stream",
                    "text": [
                        "Fitting 3 folds for each of 10 candidates, totalling 30 fits\n",
                        "Mejores hiperparámetros: {'solver': 'lbfgs', 'penalty': 'l2', 'C': 2.782559402207126}\n"
                    ]
                }
            ],
            "source": [
                "from sklearn.model_selection import RandomizedSearchCV\n",
                "import numpy as np\n",
                "\n",
                "# Definir el espacio de hiperparámetros para RandomizedSearchCV\n",
                "random_param_grid = {\n",
                "    'C': np.logspace(-4, 4, 10),\n",
                "    'penalty': ['l2'], \n",
                "    'solver': ['newton-cg', 'lbfgs', 'liblinear', 'sag', 'saga']\n",
                "}\n",
                "\n",
                "# Crear el objeto RandomizedSearchCV\n",
                "random_search = RandomizedSearchCV(model, random_param_grid, n_iter=10, cv=3, scoring='accuracy', random_state=42, verbose=1)\n",
                "\n",
                "# Ajustar RandomizedSearchCV\n",
                "random_search.fit(X_train_res, y_train_res)\n",
                "\n",
                "# Mejores hiperparámetros y modelo\n",
                "print(\"Mejores hiperparámetros:\", random_search.best_params_)\n",
                "best_random_model = random_search.best_estimator_\n"
            ]
        },
        {
            "cell_type": "code",
            "execution_count": 25,
            "metadata": {},
            "outputs": [
                {
                    "name": "stdout",
                    "output_type": "stream",
                    "text": [
                        "Precisión del modelo de Random Search: 0.864530225782957\n"
                    ]
                }
            ],
            "source": [
                "from sklearn.metrics import accuracy_score\n",
                "\n",
                "# Evaluar el modelo de Random Search\n",
                "y_pred_random = best_random_model.predict(X_test_scaled)\n",
                "print(\"Precisión del modelo de Random Search:\", accuracy_score(y_test, y_pred_random))"
            ]
        }
    ],
    "metadata": {
        "kernelspec": {
            "display_name": "Python 3.8.13 64-bit ('3.8.13')",
            "language": "python",
            "name": "python3"
        },
        "language_info": {
            "codemirror_mode": {
                "name": "ipython",
                "version": 3
            },
            "file_extension": ".py",
            "mimetype": "text/x-python",
            "name": "python",
            "nbconvert_exporter": "python",
            "pygments_lexer": "ipython3",
            "version": "3.12.0"
        },
        "orig_nbformat": 4,
        "vscode": {
            "interpreter": {
                "hash": "110cc1dee26208153f2972f08a2ad52b6a56238dc66d48e87fb757ef2996db56"
            }
        }
    },
    "nbformat": 4,
    "nbformat_minor": 2
}
